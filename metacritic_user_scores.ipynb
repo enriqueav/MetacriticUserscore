{
  "nbformat": 4,
  "nbformat_minor": 0,
  "metadata": {
    "colab": {
      "name": "metacritic_user_scores",
      "version": "0.3.2",
      "provenance": [],
      "collapsed_sections": [],
      "include_colab_link": true
    },
    "kernelspec": {
      "name": "python3",
      "display_name": "Python 3"
    },
    "accelerator": "GPU"
  },
  "cells": [
    {
      "cell_type": "markdown",
      "metadata": {
        "id": "view-in-github",
        "colab_type": "text"
      },
      "source": [
        "<a href=\"https://colab.research.google.com/github/enriqueav/MetacriticUserscore/blob/master/metacritic_user_scores.ipynb\" target=\"_parent\"><img src=\"https://colab.research.google.com/assets/colab-badge.svg\" alt=\"Open In Colab\"/></a>"
      ]
    },
    {
      "metadata": {
        "id": "6Uc54wH3vVv9",
        "colab_type": "text"
      },
      "cell_type": "markdown",
      "source": [
        "# Predicting the user score of Metacritic user reviews of Video Games using Keras functional API and Tensorflow.\n",
        "\n",
        "\n",
        "Can we predict the score given to a Video Game based on the user review posted in Metacritic? In this post we are going to use Kera's functional API and Tensorflow backend to try to achieve this task.\n",
        "\n",
        "We are going to be using [this amazing kaggle dataset ](https://www.kaggle.com/dahlia25/metacritic-video-game-comments/) where they include the metascore (the one derived from professional reviews) and the user comments (or reviews) for the top 5000 games."
      ]
    },
    {
      "metadata": {
        "id": "nOHXaHZ2zM2C",
        "colab_type": "code",
        "colab": {}
      },
      "cell_type": "code",
      "source": [
        "# Install the latest version of TensorFlow\n",
        "!pip install -q -U tensorflow==1.7.0"
      ],
      "execution_count": 0,
      "outputs": []
    },
    {
      "metadata": {
        "id": "1BVI1ZbZ6INM",
        "colab_type": "code",
        "outputId": "30fa481d-5a68-483e-8b19-efc391a89a1c",
        "colab": {
          "base_uri": "https://localhost:8080/",
          "height": 34
        }
      },
      "cell_type": "code",
      "source": [
        "import pandas as pd\n",
        "import tensorflow as tf\n",
        "\n",
        "from tensorflow import keras\n",
        "layers = keras.layers\n",
        "\n",
        "# This code was tested with TensorFlow v1.7\n",
        "print(\"You have TensorFlow version\", tf.__version__)"
      ],
      "execution_count": 2,
      "outputs": [
        {
          "output_type": "stream",
          "text": [
            "You have TensorFlow version 1.7.0\n"
          ],
          "name": "stdout"
        }
      ]
    },
    {
      "metadata": {
        "id": "QkesGscv6-x1",
        "colab_type": "text"
      },
      "cell_type": "markdown",
      "source": [
        "Now we are going to download the dataset. Originally obtained from [this kaggle dataset](https://www.kaggle.com/dahlia25/metacritic-video-game-comments)"
      ]
    },
    {
      "metadata": {
        "id": "uz2zIJaz6BDK",
        "colab_type": "code",
        "outputId": "1e407a5b-4b54-4f3d-a725-137f076a8edf",
        "colab": {
          "base_uri": "https://localhost:8080/",
          "height": 102
        }
      },
      "cell_type": "code",
      "source": [
        "!wget -nc https://github.com/enriqueav/MetacriticUserscore/raw/master/metacritic-video-game-comments.zip\n",
        "!unzip -o metacritic-video-game-comments.zip\n",
        "!chmod 777 metacritic*"
      ],
      "execution_count": 3,
      "outputs": [
        {
          "output_type": "stream",
          "text": [
            "File ‘metacritic-video-game-comments.zip’ already there; not retrieving.\n",
            "\n",
            "Archive:  metacritic-video-game-comments.zip\n",
            "  inflating: metacritic_game_info.csv  \n",
            "  inflating: metacritic_game_user_comments.csv  \n"
          ],
          "name": "stdout"
        }
      ]
    },
    {
      "metadata": {
        "id": "FTMwk7riKqEM",
        "colab_type": "text"
      },
      "cell_type": "markdown",
      "source": [
        "Then we use Pandas to read the csv and transform it into a dataframe. After that we do some processing."
      ]
    },
    {
      "metadata": {
        "id": "-w8L_AV46gqv",
        "colab_type": "code",
        "outputId": "ce086926-0c9b-4b23-a33a-7b253d831460",
        "colab": {
          "base_uri": "https://localhost:8080/",
          "height": 323
        }
      },
      "cell_type": "code",
      "source": [
        "# Convert the data to a Pandas data frame\n",
        "comments = pd.read_csv('metacritic_game_user_comments.csv')\n",
        "# Shuffle with a fixed random seed\n",
        "# This will help us to have the same training and test set every time\n",
        "comments = comments.sample(frac=1, random_state=387)\n",
        "comments = comments[pd.notnull(comments['Comment'])]\n",
        "comments.drop(['Unnamed: 0','Username'], axis=1, inplace=True)\n",
        "\n",
        "# Drop comments with less than 200 characters\n",
        "# Modify this parameter to obtain different results\n",
        "comments = comments[comments['Comment'].str.len() > 200]\n",
        "# Print the first 5 rows\n",
        "print(comments.count())\n",
        "print(comments.head())"
      ],
      "execution_count": 4,
      "outputs": [
        {
          "output_type": "stream",
          "text": [
            "Title        225930\n",
            "Platform     225930\n",
            "Userscore    225930\n",
            "Comment      225930\n",
            "dtype: int64\n",
            "                              Title      Platform  Userscore  \\\n",
            "277924  Call of Duty: Black Ops III  PlayStation4          6   \n",
            "224106                      FIFA 18  PlayStation4          9   \n",
            "169926      Resistance: Fall of Man  PlayStation3          9   \n",
            "172446                    Titanfall       XboxOne          9   \n",
            "70980   Super Smash Bros. for Wii U          WiiU          9   \n",
            "\n",
            "                                                  Comment  \n",
            "277924  I liked it. But there is some downfalls. It ai...  \n",
            "224106  A welcomed evolution of  FIFA 17.Nothing seems...  \n",
            "169926   I'm generally a Noob when it comes to first-p...  \n",
            "172446  Wow, It is clear there is a lot of Sony fanboy...  \n",
            "70980   This is the best game in the series. Mostly ev...  \n"
          ],
          "name": "stdout"
        }
      ]
    },
    {
      "metadata": {
        "id": "xoRbSxx4LFkg",
        "colab_type": "text"
      },
      "cell_type": "markdown",
      "source": [
        "Then we split the dataset in train and test sets. Since we used a constant random seed, this will return the same result every time."
      ]
    },
    {
      "metadata": {
        "id": "ZpKjFb_f-WxY",
        "colab_type": "code",
        "outputId": "ad8f160b-32ac-422b-8aa2-640ba79a564e",
        "colab": {
          "base_uri": "https://localhost:8080/",
          "height": 51
        }
      },
      "cell_type": "code",
      "source": [
        "# Split data into train and test\n",
        "train_size = int(len(comments) * .8)\n",
        "print (\"Train size: %d\" % train_size)\n",
        "print (\"Test size: %d\" % (len(comments) - train_size))\n",
        "\n",
        "# Train features\n",
        "comments_train = comments['Comment'][:train_size]\n",
        "# Train labels\n",
        "labels_train = comments['Userscore'][:train_size]\n",
        "# Test features\n",
        "comments_test = comments['Comment'][train_size:]\n",
        "# Test labels\n",
        "labels_test = comments['Userscore'][train_size:]"
      ],
      "execution_count": 5,
      "outputs": [
        {
          "output_type": "stream",
          "text": [
            "Train size: 180744\n",
            "Test size: 45186\n"
          ],
          "name": "stdout"
        }
      ]
    },
    {
      "metadata": {
        "id": "VgLa3cqILP5n",
        "colab_type": "text"
      },
      "cell_type": "markdown",
      "source": [
        "We define a keras Tokenizer, and we fit it with the train set."
      ]
    },
    {
      "metadata": {
        "id": "NThOL96A-vkb",
        "colab_type": "code",
        "colab": {}
      },
      "cell_type": "code",
      "source": [
        "# Create a tokenizer to preprocess our text descriptions\n",
        "vocab_size = 12000 # This is a hyperparameter, experiment with different values for your dataset\n",
        "tokenize = keras.preprocessing.text.Tokenizer(num_words=vocab_size, char_level=False)\n",
        "tokenize.fit_on_texts(comments_train) # only fit on train"
      ],
      "execution_count": 0,
      "outputs": []
    },
    {
      "metadata": {
        "id": "hcBSMlvv0PRl",
        "colab_type": "text"
      },
      "cell_type": "markdown",
      "source": [
        "Now we are going to create the Keras models.\n",
        "\n",
        "First we define the \"***wide***\" model. That will take a bag of words. "
      ]
    },
    {
      "metadata": {
        "id": "i4KPvNdaC0tY",
        "colab_type": "code",
        "outputId": "e9190d7a-4734-4fec-c24f-5166710edec9",
        "colab": {
          "base_uri": "https://localhost:8080/",
          "height": 289
        }
      },
      "cell_type": "code",
      "source": [
        "# Define our wide model with the functional API\n",
        "bow_inputs = layers.Input(shape=(vocab_size,))\n",
        "inter = layers.Dense(256, activation='relu')(bow_inputs)\n",
        "inter = layers.Dropout(0.3)(inter)\n",
        "predictions = layers.Dense(1, activation='linear')(inter)\n",
        "wide_model = keras.Model(inputs=bow_inputs, outputs=predictions)\n",
        "wide_model.compile(loss='mse', optimizer='adam', metrics=['accuracy'])\n",
        "print(wide_model.summary())"
      ],
      "execution_count": 7,
      "outputs": [
        {
          "output_type": "stream",
          "text": [
            "_________________________________________________________________\n",
            "Layer (type)                 Output Shape              Param #   \n",
            "=================================================================\n",
            "input_1 (InputLayer)         (None, 12000)             0         \n",
            "_________________________________________________________________\n",
            "dense_1 (Dense)              (None, 256)               3072256   \n",
            "_________________________________________________________________\n",
            "dropout_1 (Dropout)          (None, 256)               0         \n",
            "_________________________________________________________________\n",
            "dense_2 (Dense)              (None, 1)                 257       \n",
            "=================================================================\n",
            "Total params: 3,072,513\n",
            "Trainable params: 3,072,513\n",
            "Non-trainable params: 0\n",
            "_________________________________________________________________\n",
            "None\n"
          ],
          "name": "stdout"
        }
      ]
    },
    {
      "metadata": {
        "id": "b9MV-FPv0mhZ",
        "colab_type": "text"
      },
      "cell_type": "markdown",
      "source": [
        "Next we define the second model, which is the \"***deep***\" model, that will take the sequences of words and pass them to a Embedding layer"
      ]
    },
    {
      "metadata": {
        "id": "V0k7AEuk_IGC",
        "colab_type": "code",
        "outputId": "bf95573a-ea29-44e5-9ca5-d91caa9868cc",
        "colab": {
          "base_uri": "https://localhost:8080/",
          "height": 357
        }
      },
      "cell_type": "code",
      "source": [
        "max_seq_length = 2000\n",
        "\n",
        "# Define our deep model with the Functional API\n",
        "deep_inputs = layers.Input(shape=(max_seq_length,))\n",
        "embedding = layers.Embedding(vocab_size, 16, input_length=max_seq_length)(deep_inputs)\n",
        "embedding = layers.Flatten()(embedding)\n",
        "embedding = layers.Dense(64, activation='relu')(embedding)\n",
        "embedding = layers.Dropout(0.3)(embedding)\n",
        "embed_out = layers.Dense(1, activation='linear')(embedding)\n",
        "deep_model = keras.Model(inputs=deep_inputs, outputs=embed_out)\n",
        "deep_model.compile(loss='mse',\n",
        "                   optimizer='adam',\n",
        "                   metrics=['accuracy'])\n",
        "print(deep_model.summary())"
      ],
      "execution_count": 8,
      "outputs": [
        {
          "output_type": "stream",
          "text": [
            "_________________________________________________________________\n",
            "Layer (type)                 Output Shape              Param #   \n",
            "=================================================================\n",
            "input_2 (InputLayer)         (None, 2000)              0         \n",
            "_________________________________________________________________\n",
            "embedding_1 (Embedding)      (None, 2000, 16)          192000    \n",
            "_________________________________________________________________\n",
            "flatten_1 (Flatten)          (None, 32000)             0         \n",
            "_________________________________________________________________\n",
            "dense_3 (Dense)              (None, 64)                2048064   \n",
            "_________________________________________________________________\n",
            "dropout_2 (Dropout)          (None, 64)                0         \n",
            "_________________________________________________________________\n",
            "dense_4 (Dense)              (None, 1)                 65        \n",
            "=================================================================\n",
            "Total params: 2,240,129\n",
            "Trainable params: 2,240,129\n",
            "Non-trainable params: 0\n",
            "_________________________________________________________________\n",
            "None\n"
          ],
          "name": "stdout"
        }
      ]
    },
    {
      "metadata": {
        "id": "bHfMpY3r1Qch",
        "colab_type": "text"
      },
      "cell_type": "markdown",
      "source": [
        "Then we combine both models using Keras functional API"
      ]
    },
    {
      "metadata": {
        "id": "0iTr2ynpGFwS",
        "colab_type": "code",
        "outputId": "ff19bb63-e5e9-4c21-ed96-b4fbb35fdcd3",
        "colab": {
          "base_uri": "https://localhost:8080/",
          "height": 646
        }
      },
      "cell_type": "code",
      "source": [
        "# Combine wide and deep into one model\n",
        "merged_out = layers.concatenate([wide_model.output, deep_model.output])\n",
        "merged_out = layers.Dense(64, activation='relu')(merged_out)\n",
        "merged_out = layers.Dropout(0.3)(merged_out)\n",
        "merged_out = layers.Dense(1)(merged_out)\n",
        "combined_model = keras.Model([wide_model.input, deep_model.input], merged_out)\n",
        "combined_model.compile(loss='mse',\n",
        "                       optimizer='adam',\n",
        "                       metrics=['accuracy'])\n",
        "print(combined_model.summary())"
      ],
      "execution_count": 9,
      "outputs": [
        {
          "output_type": "stream",
          "text": [
            "__________________________________________________________________________________________________\n",
            "Layer (type)                    Output Shape         Param #     Connected to                     \n",
            "==================================================================================================\n",
            "input_2 (InputLayer)            (None, 2000)         0                                            \n",
            "__________________________________________________________________________________________________\n",
            "embedding_1 (Embedding)         (None, 2000, 16)     192000      input_2[0][0]                    \n",
            "__________________________________________________________________________________________________\n",
            "input_1 (InputLayer)            (None, 12000)        0                                            \n",
            "__________________________________________________________________________________________________\n",
            "flatten_1 (Flatten)             (None, 32000)        0           embedding_1[0][0]                \n",
            "__________________________________________________________________________________________________\n",
            "dense_1 (Dense)                 (None, 256)          3072256     input_1[0][0]                    \n",
            "__________________________________________________________________________________________________\n",
            "dense_3 (Dense)                 (None, 64)           2048064     flatten_1[0][0]                  \n",
            "__________________________________________________________________________________________________\n",
            "dropout_1 (Dropout)             (None, 256)          0           dense_1[0][0]                    \n",
            "__________________________________________________________________________________________________\n",
            "dropout_2 (Dropout)             (None, 64)           0           dense_3[0][0]                    \n",
            "__________________________________________________________________________________________________\n",
            "dense_2 (Dense)                 (None, 1)            257         dropout_1[0][0]                  \n",
            "__________________________________________________________________________________________________\n",
            "dense_4 (Dense)                 (None, 1)            65          dropout_2[0][0]                  \n",
            "__________________________________________________________________________________________________\n",
            "concatenate_1 (Concatenate)     (None, 2)            0           dense_2[0][0]                    \n",
            "                                                                 dense_4[0][0]                    \n",
            "__________________________________________________________________________________________________\n",
            "dense_5 (Dense)                 (None, 64)           192         concatenate_1[0][0]              \n",
            "__________________________________________________________________________________________________\n",
            "dropout_3 (Dropout)             (None, 64)           0           dense_5[0][0]                    \n",
            "__________________________________________________________________________________________________\n",
            "dense_6 (Dense)                 (None, 1)            65          dropout_3[0][0]                  \n",
            "==================================================================================================\n",
            "Total params: 5,312,899\n",
            "Trainable params: 5,312,899\n",
            "Non-trainable params: 0\n",
            "__________________________________________________________________________________________________\n",
            "None\n"
          ],
          "name": "stdout"
        }
      ]
    },
    {
      "metadata": {
        "id": "vwaUn2821kuB",
        "colab_type": "text"
      },
      "cell_type": "markdown",
      "source": [
        "Before starting the training, we will define a callback function, which means, a function that will be called after each epoch ends. \n",
        "\n",
        "What we want is to test the partially trained model to check how it is predicting the score of the test set."
      ]
    },
    {
      "metadata": {
        "id": "TtAxOuVN1fj-",
        "colab_type": "code",
        "colab": {}
      },
      "cell_type": "code",
      "source": [
        "def on_epoch_end(epoch, logs, print_preditions=0):\n",
        "    # Generate predictions\n",
        "    predictions = combined_model.predict_generator(\n",
        "        generator(comments_test, labels_test, 128, tokenize, max_seq_length),\n",
        "        steps=int(len(comments_test)/128)\n",
        "    )\n",
        "\n",
        "    # Compare predictions with actual values for the first few items in our test dataset\n",
        "    diff = 0\n",
        "    printed = 0\n",
        "    for i in range(len(predictions)):\n",
        "        val = predictions[i]\n",
        "        if print_preditions and printed < print_preditions:\n",
        "            print(comments_test.iloc[i])\n",
        "            print('Predicted: ', val[0], 'Actual: ', labels_test.iloc[i], '\\n')\n",
        "            printed += 1\n",
        "        diff += abs(val[0] - labels_test.iloc[i])\n",
        "\n",
        "    # Compare the average difference between actual price and the model's predicted price\n",
        "    print('\\nEpoch: %d. Average prediction difference: %0.4f\\n' %\n",
        "            (epoch+1, diff/len(predictions)))\n",
        "    \n",
        "\n",
        "print_callback = keras.callbacks.LambdaCallback(on_epoch_end=on_epoch_end)"
      ],
      "execution_count": 0,
      "outputs": []
    },
    {
      "metadata": {
        "id": "RhBXWKQV2L37",
        "colab_type": "text"
      },
      "cell_type": "markdown",
      "source": [
        "Another thing we will do before the training is to create a generator. Generators are used in cases where your whole training set would not fit into memory, or when you want to apply some kind of data augmentation on training time.\n",
        "\n",
        "\n",
        "In this case we are going to use it because the \"***wide***\" representation (bags of words) of all the training examples at the same time would take all of the memory allocated by Google colab.\n",
        "\n",
        "Also note that at training time we will all *process_comments*, which will create the Bag Of Words and sequences of words to send to the Embedding layer. Naturally, this will slow down the training a little bit (we could actually pre-calculate the sequences to speed up)."
      ]
    },
    {
      "metadata": {
        "id": "7lPOuL7lXCLJ",
        "colab_type": "code",
        "colab": {}
      },
      "cell_type": "code",
      "source": [
        "def process_comments(comments, tokenize, max_seq_length):\n",
        "    # Create the Bag Of Words and the embed version of only this\n",
        "    # batch of examples. \n",
        "    # This is to avoid using all the memory at the same time\n",
        "    bow = tokenize.texts_to_matrix(comments)\n",
        "    embed = tokenize.texts_to_sequences(comments)\n",
        "    embed = keras.preprocessing.sequence.pad_sequences(\n",
        "        embed, maxlen=max_seq_length, padding=\"post\"\n",
        "    )\n",
        "    return [bow, embed]\n",
        "  \n",
        "# Create the generator for fit and evaluate\n",
        "def generator(comments_list, labels_list, batch_size, tokenize, max_seq_length):\n",
        "    batch_number = 0\n",
        "    data_set_len = len(comments_list)\n",
        "    batches_per_epoch = int(data_set_len/batch_size)\n",
        "\n",
        "    while True:\n",
        "        initial = (batch_number*batch_size) % data_set_len\n",
        "        final = initial + batch_size\n",
        "        comments_to_send = comments_list[initial:final]\n",
        "\n",
        "        x = process_comments(comments_to_send, tokenize, max_seq_length) \n",
        "        y = labels_list[initial:final]\n",
        "\n",
        "        batch_number = (batch_number+1) % batches_per_epoch\n",
        "        yield x, y"
      ],
      "execution_count": 0,
      "outputs": []
    },
    {
      "metadata": {
        "id": "sl7GLSpO28Bt",
        "colab_type": "text"
      },
      "cell_type": "markdown",
      "source": [
        "Since we are going to use generators, we use Model.fit_generator instead of Model.fit.\n",
        "\n",
        "Please note that the generator is responsible to yield both the inputs and the expected labels of each batch. \n",
        "\n",
        "We are also sending validation_data, so the model will get evaluated after each epoch, printing the loss and accuracy of the test set (val_loss, val_acc).\n",
        "\n",
        "Finally, we send the callback we created a couple of steps before, so it will execute *on_epoch_end* every epoch."
      ]
    },
    {
      "metadata": {
        "id": "6pNmVr42HE1T",
        "colab_type": "code",
        "outputId": "3e985f19-7412-47bf-981c-87af90debf21",
        "colab": {
          "base_uri": "https://localhost:8080/",
          "height": 629
        }
      },
      "cell_type": "code",
      "source": [
        "# Run training\n",
        "# It is a fairly deep network, it will take around 5 minutes per epoch\n",
        "combined_model.fit_generator(\n",
        "    generator(comments_train, labels_train, 128, tokenize, max_seq_length),\n",
        "    steps_per_epoch=int(len(comments_train)/128),\n",
        "    epochs=7,\n",
        "    validation_data=generator(comments_test, labels_test, 128, tokenize, max_seq_length),\n",
        "    validation_steps=int(len(comments_test)/128),\n",
        "    callbacks=[print_callback]\n",
        ")"
      ],
      "execution_count": 12,
      "outputs": [
        {
          "output_type": "stream",
          "text": [
            "Epoch 1/7\n",
            "1411/1412 [============================>.] - ETA: 0s - loss: 6.6579 - acc: 0.1659\n",
            "Epoch: 1. Average prediction difference: 1.3633\n",
            "\n",
            "1412/1412 [==============================] - 406s 288ms/step - loss: 6.6564 - acc: 0.1659 - val_loss: 3.5711 - val_acc: 0.2672\n",
            "Epoch 2/7\n",
            "1411/1412 [============================>.] - ETA: 0s - loss: 3.9862 - acc: 0.2164\n",
            "Epoch: 2. Average prediction difference: 1.2548\n",
            "\n",
            "1412/1412 [==============================] - 407s 288ms/step - loss: 3.9858 - acc: 0.2164 - val_loss: 3.3733 - val_acc: 0.3150\n",
            "Epoch 3/7\n",
            "1411/1412 [============================>.] - ETA: 0s - loss: 3.1697 - acc: 0.2434\n",
            "Epoch: 3. Average prediction difference: 1.2188\n",
            "\n",
            "1412/1412 [==============================] - 408s 289ms/step - loss: 3.1694 - acc: 0.2434 - val_loss: 3.3812 - val_acc: 0.3577\n",
            "Epoch 4/7\n",
            "1411/1412 [============================>.] - ETA: 0s - loss: 2.5435 - acc: 0.2684\n",
            "Epoch: 4. Average prediction difference: 1.2170\n",
            "\n",
            "1412/1412 [==============================] - 408s 289ms/step - loss: 2.5435 - acc: 0.2684 - val_loss: 3.4398 - val_acc: 0.3670\n",
            "Epoch 5/7\n",
            "1411/1412 [============================>.] - ETA: 0s - loss: 2.1576 - acc: 0.2859\n",
            "Epoch: 5. Average prediction difference: 1.2177\n",
            "\n",
            "1412/1412 [==============================] - 410s 291ms/step - loss: 2.1575 - acc: 0.2860 - val_loss: 3.4783 - val_acc: 0.3719\n",
            "Epoch 6/7\n",
            "1411/1412 [============================>.] - ETA: 0s - loss: 1.8999 - acc: 0.3046\n",
            "Epoch: 6. Average prediction difference: 1.2251\n",
            "\n",
            "1412/1412 [==============================] - 410s 290ms/step - loss: 1.8999 - acc: 0.3046 - val_loss: 3.4599 - val_acc: 0.3697\n",
            "Epoch 7/7\n",
            "1411/1412 [============================>.] - ETA: 0s - loss: 1.7114 - acc: 0.3211\n",
            "Epoch: 7. Average prediction difference: 1.2074\n",
            "\n",
            "1412/1412 [==============================] - 416s 295ms/step - loss: 1.7114 - acc: 0.3211 - val_loss: 3.5435 - val_acc: 0.3851\n"
          ],
          "name": "stdout"
        },
        {
          "output_type": "execute_result",
          "data": {
            "text/plain": [
              "<tensorflow.python.keras._impl.keras.callbacks.History at 0x7f91a3a39d30>"
            ]
          },
          "metadata": {
            "tags": []
          },
          "execution_count": 12
        }
      ]
    },
    {
      "metadata": {
        "id": "99SC_GiyMu_5",
        "colab_type": "text"
      },
      "cell_type": "markdown",
      "source": [
        "At the end, you should get an average difference of around 1.25 points per user review.\n",
        "\n",
        "Finally, we evaluate again the final, trained model, printing some of the results."
      ]
    },
    {
      "metadata": {
        "id": "CaIMTosfXfhd",
        "colab_type": "code",
        "colab": {
          "base_uri": "https://localhost:8080/",
          "height": 1108
        },
        "outputId": "a51b2f1d-dbec-4ffd-d54b-eb7e8e2008ef"
      },
      "cell_type": "code",
      "source": [
        "# We manually call on_epoch_end with the trained model, but this time with \n",
        "# print_preditions=20\n",
        "# It will print 20 examples of the training set, with its predicted and actual \n",
        "# value\n",
        "on_epoch_end(7, {}, print_preditions=20)"
      ],
      "execution_count": 13,
      "outputs": [
        {
          "output_type": "stream",
          "text": [
            "Great story line, very outstanding 3D graphics and the moves of Dante... Man, they totally knock my teeth out!!  Too easy you say, try  Dante must die mode and see if you still think it's TOO easy!!  If you own a PS2 but don't have this game, you better go get one or you might aswell kill yourself~~\n",
            "Predicted:  9.828749 Actual:  10 \n",
            "\n",
            "Twilight Princess is among my favorite Zelda games. To say that the original hadn't aged well would be quite the understatement. Make no mistake that this is not a full on remake. You are still seeing the original character models and geometry with a fresh coat of paint. This is especially apparent when looking at Wolf Link. His paws still lack definition.Some of the original game'sTwilight Princess is among my favorite Zelda games. To say that the original hadn't aged well would be quite the understatement. Make no mistake that this is not a full on remake. You are still seeing the original character models and geometry with a fresh coat of paint. This is especially apparent when looking at Wolf Link. His paws still lack definition.Some of the original game's issues still remain but that is more due to the limitation of the hardware at the time. Hyrule Field feels a bit barren compared to more contemporary games. Going from place to place generally doesn't feel too exciting. Like MGSV's world, the game is at its best once you get to those dungeons and points of interest. Twilight Princess is a huge game which can easily take over 100 hours to find every piece of heart (5 per container), bug, etc. The dungeons are among the best in the series and boast some incredible boss fights even if they are a bit on the easy side. If you are looking for a greater challenge however? The Wolf Link Amiibo opens up an additional cave of trials. The Ganondorf amiibo unlocks double the damage. The game also allows you to play on Hero mode from the beginning.The most immediate benefit of this remake is the added detail and texture work on the character models. Link and Zelda's clothes have a noticeable cloth weave pattern. The enhanced detail really pops though it makes me wish the same attention had been paid to other areas. Wolf Link's fur still seems a bit flat. As I stated earlier his feet also lack definition. The other long standing criticism is that the game's first hour is tedious. It does set up Link's relationship with some of the characters and makes it a bit of a more personal tale.Further improvements include easier inventory management (courtesy of the gamepad), A reduction in the number of tears of twilight needed. Like them or hate them, motion controls have been removed for this outing. (I actually enjoyed them). One thing also struck me during my first few hours. Epona is actually pretty clunky in the way she controls. I couldn't remember her being this unwieldy in the original. I also occasionally got stuck on odd bits of geometry.For those who haven't played Twilight Princess this is a fantastic way to spend your time leading up to the release of Zelda U. Midna is the best companion in the series. Twilight Princess is a darker story as Zelda games go, but perhaps not as dark as Majora's Mask.In the end Twilight Princess HD is an excellent HD remaster with a few minor annoyances. However they never ultimately detract from what is an otherwise game.\n",
            "Predicted:  8.9589205 Actual:  8 \n",
            "\n",
            "Fallout 4 is a step forward compared to the previous titles.  I have played Fallout 3 and New Vegas, but the innovation behind Fallout 4 is much more immersive and streamlined.  I enjoy the new system of character development and interaction with the world.  Fallout 4 plays more like a simulator compared to its predecessors.  The graphics are better, but nothing compared to 2015 standards.Fallout 4 is a step forward compared to the previous titles.  I have played Fallout 3 and New Vegas, but the innovation behind Fallout 4 is much more immersive and streamlined.  I enjoy the new system of character development and interaction with the world.  Fallout 4 plays more like a simulator compared to its predecessors.  The graphics are better, but nothing compared to 2015 standards.  Hopefully, modding will come down the pipeline sooner than later.  Glad I bought this at full price.  It has been worth it.\n",
            "Predicted:  6.330714 Actual:  9 \n",
            "\n",
            " It's great for all the obvious reasons that everyone else mentions. HOWEVER: there isn't anyway to play multiplayer in PGA Tour mode, which sucks, especially if you want to build a couple original characters and develop them with friends. You have to do it individually. ALso, it would be great if more statistical information was available regarding all the different clubs and It's great for all the obvious reasons that everyone else mentions. HOWEVER: there isn't anyway to play multiplayer in PGA Tour mode, which sucks, especially if you want to build a couple original characters and develop them with friends. You have to do it individually. ALso, it would be great if more statistical information was available regarding all the different clubs and gear you can buy. Why is one club better than the other? What shafts give power, and which give feel? Why aren't there \"superclubs\"? It seems that games are totally geared for online multiplay these days, but there is real beauty in being able to hook up four controllers for a friday night tour with four friends... sadly, you can't do that with this game. still, it's great. \n",
            "Predicted:  7.916404 Actual:  7 \n",
            "\n",
            "First. For all those people hating on the Launch HELL THE HELL DIDNT YOU SEE IT COMING Over 20Million Units Sold even Blizzard couldnt see that coming.Other then that the game was fine for game play had a good time playing through both Nightmare and Normal Completed Both now time too far for Inferno come on this game has come from 12 years of nothing to just 12 year old crying cause theyFirst. For all those people hating on the Launch HELL THE HELL DIDNT YOU SEE IT COMING Over 20Million Units Sold even Blizzard couldnt see that coming.Other then that the game was fine for game play had a good time playing through both Nightmare and Normal Completed Both now time too far for Inferno come on this game has come from 12 years of nothing to just 12 year old crying cause they couldn't login on release it was bound to happen. You ask any diablo fan it is FANTASTIC and for the PvP not on Release they said that over 5 Months ago it was going to be on Release.Thank you Blizzard for the Lovely title for the next installment cant wait :D\n",
            "Predicted:  6.4792128 Actual:  8 \n",
            "\n",
            "Now this game is a must buy, so what are you waiting for just buy it and enjoy all it has too offer from graffics too story too gameplay. Yes it has it allWow i love how all the negative comments dont give any details on whats so bad or whats bethesda have been lying about haha\n",
            "Predicted:  9.356542 Actual:  10 \n",
            "\n",
            "I initially gave this game a good rating and got upset with all the people leaving negative reviews. Well things have changed. Elite service which I paid 50 dollars for still doesn't work. The lag compensation is so bad that this game is just not fun anymore. I have a 25 up and 25 down with a 17 millisecond ping to the call of duty servers but for some reason Infinity Wards punishes peopleI initially gave this game a good rating and got upset with all the people leaving negative reviews. Well things have changed. Elite service which I paid 50 dollars for still doesn't work. The lag compensation is so bad that this game is just not fun anymore. I have a 25 up and 25 down with a 17 millisecond ping to the call of duty servers but for some reason Infinity Wards punishes people with good internet connections with something called lag compensation which gives the guy with **** internet service the advantage. Even when that's not happening the game is just utter garbage. I mean really ??? No dedicated servers for a game that is going to make over a billion dollars. I will never buy another Moderen Warfare game again.\n",
            "Predicted:  0.84920835 Actual:  0 \n",
            "\n",
            "Great game and a lot of fun. Didn't live up to the hype, but how many games do? Its a a fun open world game that isnt as generic as GTA but is still held back by being cross generation. Too bad it wasn't built only with the current gen consoles in mine. So much potential to build on for the future\n",
            "Predicted:  7.7079353 Actual:  9 \n",
            "\n",
            "Küçükken aldırdığım PS2 ve rastgele kapağını güzel bularak bu oyunu aldırmam, oyunun güzelliğine güzellik ve anı katan detaylar. Oyuna gelecek olursak;Grafikleri, hikayesi ve Boss savaşlarıyla ortaya mükemmel bir iş çıktığını görüyoruz.\n",
            "Predicted:  7.966731 Actual:  9 \n",
            "\n",
            "J'ai terminé la campagne en 6h, une durée très respectable pour un jeu de ce genre, du genre à tirer sur des trucs pendant des heures comme tous les jeux de ce type, les jeux de tir en vue subjective. Et comme tous les jeux de cet acabit, heureusement que ce n'est pas plus long, car on en ferait une crise d'épilepsie de Parkinson.Tirer sur ces saloperies de cabots, sur ces merdesJ'ai terminé la campagne en 6h, une durée très respectable pour un jeu de ce genre, du genre à tirer sur des trucs pendant des heures comme tous les jeux de ce type, les jeux de tir en vue subjective. Et comme tous les jeux de cet acabit, heureusement que ce n'est pas plus long, car on en ferait une crise d'épilepsie de Parkinson.Tirer sur ces saloperies de cabots, sur ces merdes volantes qui se barrent au premier coup de laser pour revenir te soûler, vider des chargeurs sur ces machins aliens (non pas de vrais \"aliens\", ils ne poussent pas ces cris affreux qui font rire) juste des \"Forerunners\" ou je sais pas quoi, j'avoue que j'ai pas bien compris le pourquoi du comment de cette histoire. Apparemment la merde volait très bas et on vous a (r)appelé pour nettoyer. Encore.Sans parler des Convenants, des Covenants pardon, des hordes entières à tuer, mitrailler, grenader, anéantir. Dire que certains pisse-copie osent critiquer la répétition de certains jeux de rôle... quoique, ça dépend desquels il est vrai. Mais tout de même, dans le genre, je tire, je tire, je tire... gnééé boum boum taratata piou piou attention t'as un filet de bave sur le coin de la bouche c'est dégueulasse.Y a même un passage Starre Varses genre étoile pas claire où faut zigzaguer putain ça m'a cassé les couilles j'te raconte pas.Cela étant, on mesure les progrès accomplis tout en restant fidèle à la licence, d'immenses progrès et tout cela grâce à 343 Industries, le nouveau studio dédié à Halo par Microsoft tandis que Bungie est allé torcher son pay2win fermier avec la bénédiction d'Activitron. Une page se tourne et on ne la regrettera pas à dire vrai.343 a donc virilisé Halo et a fait d'un jeu adolescent un jeu adulte. Je parlais de \"piou piou\" plus haut mais c'est inexact : ça c'était chez Bungie. Chez 343, la moindre pétoire (et il y en a beaucoup) est désormais incroyablement crédible, comme si tout-à-coup le jeu tout entier et tout ce qui l'accompagne s'était vu pousser des balloches commack mec. Ainsi toute l'ambiance sonore est méconnaissable, les couleurs criardes ont dégagé, le ton général est indéniablement plus mature. Même Cortana est devenue une sex machine euh un sex symbol digital.Et quelle réalisation ! Halo Reach m'avait paru sensiblement plus beau (ou moins laid) que les précédents mais Halo 4 leur a mis 10 ans dans la gueule. Quasiment une génération d'écart, pas moins. Bref, une belle baffe graphique et qui tient la route, dans la campagne tout du moins. Comme 343 ne fait pas les choses à moitié, de magnifiques scènes cinématiques en remettent encore une couche alors que Bungie est déjà à terre et en terre.Chose encore plus étonnante, même le multi-joueurs est devenu fréquentable et carrément bien plus agréable qu'un Call of Duty. Le hic, c'est que ça tourne à plus ou moins à 30 im/s (plutôt moins selon l'action à l'écran) et l'absence de serveur dédié (comme les COD d'ailleurs) est vraiment dommageable. En outre, les cartes sont nettement moins belles que dans la campagne...Voilà. Contre toute attente, Halo 4 est bon. Pas extraordinaire malgré ses graphismes mirifiques, son excellente VF, ses temps de chargement réduits, sa musique passe-partout. Celle de Bungie était mieux. Quand même. Mais Bungie, c'est pour les gamins.\n",
            "Predicted:  8.522287 Actual:  7 \n",
            "\n",
            "While the graphics do show a LOT of age and the controls are bad, this is still a game that is a lot of fun, the story is awesome, as is the feel of the world, it has some really fun quests, and cool locations, characters, and weapons, if you like RPGs and have an Xbox you should get this game.\n",
            "Predicted:  9.50937 Actual:  9 \n",
            "\n",
            "Core Gameplay:First of all the NieR:Automata actually has 2 completely different gameplays, one classic shoot em up (SHMUP) version and one quick intense beat em up based action mixed with variation of long range projectile battling, and than its some roleplaying elements sprinkled over it.Furthermore, the game is not only in 3D action but also features complete 2D stages whichCore Gameplay:First of all the NieR:Automata actually has 2 completely different gameplays, one classic shoot em up (SHMUP) version and one quick intense beat em up based action mixed with variation of long range projectile battling, and than its some roleplaying elements sprinkled over it.Furthermore, the game is not only in 3D action but also features complete 2D stages which reminds one of classic great game from the Super Nintendo and Sega Genesis era.Lets first look at the base action(and ignore the SHMUP for now), NieR:Automata has a great flow to the action. Standard of Platinum previous games and the game do actually play as a mix between Bayonetta and Vanquish. Many of the bosses do truly split in between a hack and slash high tempo action or 3D shooter where its about avoiding bullets while hitting them with your special abilitets.NieR:Automata features 4 different main weapons, short swords,large swords,spears and fist weapon. You can set up 2 weapon as your main and than easily swap between the 2 preset. Combos are based around mixing the 2 different weapons equipped and/or by holding the buttons down.During all of that, you also have your pod. Your companion and often a very logical(wanting to kill everything) personal partner. The pod is the living gun that you will use for shooting at enemies, while this mainly feels like its to be used for the shooter part of encounters, it actually a big part to learn how to constantly fill your enemies with bullets while you punch them in the face a big part of mastering the combat.  This is both hard and rewarding, especially when you also combo in the special abilitets that your pod has.The most important customizeable part of the game is to what your pod should do, first the pod has the Lazer which is often the best thing to have and the go to ability but there is a lot of cool and interesting special abilitets. You will also later have more then 1 pod and than just like the weapon can be swapped constantly, each pod have their own unique projectile so this is important to maximum damage but even more so to trigger your different abilitets for great effect.Mastering the combos of weapon + using the pods + abilitets is quite a challenge and the core gameplay simply is a blast to enjoy.But the best part is actually the mix between 2D and 3d. This game has a very cool how it mixes this things so effortlessly. You can have a whole dungeon as 2d, but the boss be in 3d. Or Vice versa. Some stages mixes this back and forth constantly this is showcased mainly in the shmup stages that do this constantly. A part of the shmup can be in Side 2D, the next Overhead 2D. Then classic rail shooter, into a 3d etc. All of this is extremely impressive, especially as some bosses are fight in both 3d and 2d, so even if its the same boss they have different feel to them as the sudden 2d limitation can be make the encounter feel vastly different.The Shmup part then its actually what NieR:Automata starts with and then this game mode will be used every now and than. Its extremely nauseating difficult on very hard but otherwise its generally just a fun game experience, arguably to easy on the other difficulty. As mentioned on the Shmup part the game truly love to constantly swap the perspective and its 2 main different ones, whiel it features several different 2d views they all play the same. But in the 3d view, the games go classic Gundam and the airplanes becomes a mecha that has fighting abilitets.The mecha part is played in a similar way to standard combat, you have weak and strong attacks which are in melee range, you got your special abilitets etc. The different 2ds are purely airplane mode and than you have only projectiles.The only real problem with the shmup is that the game overall has an issue that enemies can both move and shoot during cut scenes, so each time the game changes perspective you might die, you cannot move during perspective change so especially on very hard then this might kill you. Enemies also fly into you in wait for the perspective to change and this will make projectile spawn at your face in some parts of the game. (On the standard  gameplay there are places when you are completely surrounded by machines after the cut scene or load finishes as well)The game is semi open world where you can explore areas that are currently unlocked and you later gain more areas by getting further in the story.  You have classic rpg elements like crafting and improving weapon and pods, these are fine but not fantastic you simply get the mats and than you can make them better, but its also a lot of hidden items to find. The game also has fishing and some of the side quest are kinda like their own mini games for example there is a racing side quest where you have to get to places in a set amount of time. The game ha\n",
            "Predicted:  9.977822 Actual:  9 \n",
            "\n",
            "The only ones who rate this game with negative scores, are old folks that can only compare directly to what is taken out of the old XCOM games. I think that says enough.Pro's:+ Very intense and exciting, backed up by a good usage of luck (might frustrate players who feel they aren't in control)+ A lot of though choices to make, deep tactical elements, especially in battle+ TheThe only ones who rate this game with negative scores, are old folks that can only compare directly to what is taken out of the old XCOM games. I think that says enough.Pro's:+ Very intense and exciting, backed up by a good usage of luck (might frustrate players who feel they aren't in control)+ A lot of though choices to make, deep tactical elements, especially in battle+ The combination of perma death of your soldiers, an excellent AI and a difficult setting, make up of a great experience+ Allows for one of the best player-driven narrative I've ever seen.- Some camera issues- Strategic layer overarching the tactical missions are a bit thin, and don't live up to the complexity and realistic feel of the gameI recommend this to anyone who has some love for hard-knock, immersive strategic games.\n",
            "Predicted:  8.988069 Actual:  10 \n",
            "\n",
            "woops srry about that i accidently gave this game a 10 so i came back to change it.deservers a 4 or somewhere around those numbers.DO NOT buy this game.Its is overrated.Story mode was just so horrible n very outdated gfx\n",
            "Predicted:  2.0422103 Actual:  2 \n",
            "\n",
            "i was prestige 3 level 41 before i jumped ship. i really gave the game a chance. was third prestige when everyone hadnt even completed the first one. everything is wrong about this game. sound is dreadful blury and **** noob friendly with no recoil whatsoever and the worse thing is the lag. i am the kind of player who does always a 30-5 score in ffa. in this game no matter what i play calli was prestige 3 level 41 before i jumped ship. i really gave the game a chance. was third prestige when everyone hadnt even completed the first one. everything is wrong about this game. sound is dreadful blury and **** noob friendly with no recoil whatsoever and the worse thing is the lag. i am the kind of player who does always a 30-5 score in ffa. in this game no matter what i play call it team deathmatch kill conformed or free for all i was doing scores like 2 kills and 30 deaths 9 out of 10 times. it is not just laggy, you are 2 seconds behindtheenmy at least. i just put back mw3, i was playing with 2 bars and it felt magical compared to this abomination. i am already selling it and never trusting treyarch again. this game is **** and they need to get punished. they did some small good things but the lag is the main flaw. and they do not aknowledge it, they stick their heads in the sand to avoid the problem. enough is enough. back to mw3. all i wish is cod 4 was not hacked id be playing it all day long\n",
            "Predicted:  1.8656032 Actual:  0 \n",
            "\n",
            "Graphics: 9/10  (The graphics are beautiful, but sometimes they are exaggeratedly colorful for my taste). Music/Voice Acting: 10/10 Atmosphere: 10/10Quality of quests: 7/10 (The majority of the quests are mediocre, but nevertheless fun to complete)Character control: 9/10 Conclusion: The game is a must-have . The price is pretty low what it delivers. The whole Trine franchise isGraphics: 9/10  (The graphics are beautiful, but sometimes they are exaggeratedly colorful for my taste). Music/Voice Acting: 10/10 Atmosphere: 10/10Quality of quests: 7/10 (The majority of the quests are mediocre, but nevertheless fun to complete)Character control: 9/10 Conclusion: The game is a must-have . The price is pretty low what it delivers. The whole Trine franchise is innovative, fun to play, and between you and me I can wait for a Trine 3. This is the perfect casual / family game.\n",
            "Predicted:  7.958641 Actual:  8 \n",
            "\n",
            "No puedo puntuar con menos nota un videojuego que voy camino de pasarme dos veces en 3 meses, un remake/remaster como quieran llamarlo, excepcional, los gráficos alcanzan el máximo nivel que podían alcanzar teniendo en cuenta que hablamos de texturas que tienen 10 años...el uso del gamepad le aporta frescura, no es una revolución de remake o remaster, pero la suma de detalles mejores queNo puedo puntuar con menos nota un videojuego que voy camino de pasarme dos veces en 3 meses, un remake/remaster como quieran llamarlo, excepcional, los gráficos alcanzan el máximo nivel que podían alcanzar teniendo en cuenta que hablamos de texturas que tienen 10 años...el uso del gamepad le aporta frescura, no es una revolución de remake o remaster, pero la suma de detalles mejores que aporta en WiiU con el magnifico aspecto visual y la calidad que ya atesoraba hacen una combinación mucho más que digna de la nota que le pongo. Larga vida a Link\n",
            "Predicted:  8.453039 Actual:  10 \n",
            "\n",
            "Don't know how people can review this game red. I know everyone is entitled to their own opinion but come on! Zero?! I noticed that the reviewer who scored it this low also scored Battlefield 3 a 10 out of 10. I think multiplayer FPSs are probably more his cup of tea. I'm not a massive fan of that genre but I do know good gameplay, a strong narrative and great graphics when I see them.Don't know how people can review this game red. I know everyone is entitled to their own opinion but come on! Zero?! I noticed that the reviewer who scored it this low also scored Battlefield 3 a 10 out of 10. I think multiplayer FPSs are probably more his cup of tea. I'm not a massive fan of that genre but I do know good gameplay, a strong narrative and great graphics when I see them. This game has got a few flaws I agree, but bad graphics is definitely not one of them (he surely must have been playing a different game). This is a slow paced, stealth orientated adventure game. You have  to be patient and play strategically. The multiplayer might be a bit more fast paced but I wouldn't know as I haven't experienced that side of it yet. This is a game you take your time with, lose yourself in and you really will get the best out of it. On a side note, what about that prologue? In a word...stunning. As is the game overall.\n",
            "Predicted:  9.863317 Actual:  10 \n",
            "\n",
            "Ever since 2K Games has announced the most current version of NBA2K with NBA2K17 people have gone nuts for it for a good reason. Who is a NBA fan who doesn’t get excited for these games? There are so many possibilities of what you can do in these games; going from things like having your own career to being the general manager of your favorite team!The question is, can it live up toEver since 2K Games has announced the most current version of NBA2K with NBA2K17 people have gone nuts for it for a good reason. Who is a NBA fan who doesn’t get excited for these games? There are so many possibilities of what you can do in these games; going from things like having your own career to being the general manager of your favorite team!The question is, can it live up to the hype?When the MyCareer experience got an upgrade in NBA2K15 with the release of the Playstation 4 and XBox One, people have been trying to investigate for issues and finding some here and there. Then when 2K16 was released it got even better with the relationships with coaches and players, the cause and effect of your actions, and also your overall ability as a player in the NBA. But when NBA2K17 was released and I was able to have the opportunity of having the Pre-Tip Off version my mind was blown. Not only have the experiences from last year have been upgraded, but your character development is better, your game experience is better, your relationships with coaches and players are better. You also get your own court in your little ‘man cave’ area where you can work on your shots, plus your teammates can randomly text you to come over and shoot around with you. For example, you can be in your warehouse, working on your splash 3-pointer, and all of a sudden, ‘ya boy’ Steph Curry will show up out of nowhere and start showing you how it’s done in a 3-point contest.Can this get annoying having a player come over and you have to go to a game, yes, but it’s the thought that counts. Not to mention, with these little challenges come rewards to improve your player.Another new thing introduced was having a teammate, Justice Young, and having to build a relationship with this player during optional practices and things like that. Instead of past years where there was no legitimate reason to go to optional practices, you now get some improvement for upgrades and also further the plot regarding Justice Young. You originally start off cold with this relationship, for reasons that will be left untold, but it is so satisfying to make an unexpected friendship with Justice.The other really cool thing about this is that whenever you get an assist from Justice or he gets an assist off you, you get this orange thing pulsing around both of your feet. This is called ‘Orange Juice.´  What happens is when this occurs so many times, you are able to control both you and Justice, instead of the usual player lock on you. This is very new to the games and I love it! It puts a twist and makes you try to get that one assist or for that one shot to go in. I hope it continues for next year.Another feature to have is called MyGM, where you are able to be the GM of any team in the league. Not only that, but you can make a whole new team, add teams from other countries, or add some historic teams and have the 95-96 Bulls face off against the current Warriors in the NBA Finals.You were able to do that last year, but this year they added some more goals set by the owner to give to you. If you can complete these goals, you get paid a bonus.Although I love this newer feature, I prefer the generic association where you control every aspect of your team, with no pressure of completing different tasks. The MyGM seems a bit rushed and awkward this year, with the lack of choices you might see from games like Madden 17 and even Madden 13 when it was really big to do that mode. I have yet to get through a whole season on MyGM with the Indiana Pacers, but I do enjoy having to make the game time decisions to determine how your team will operate come next game. The thing that is new with both of these features is you can start in the off season and things can change quite a bit for the upcoming season.By the way, LeBron went to Boston for all you Celtics fans.Lastly, there is an option called MyTeam, which is like a team that is composed of players collected from packs or achieving different goals. I generally really enjoy this option, but this year was very different. It feels like with this game 2K pushes you away from this feature to things like MyGM and MyCareer, which I personally don’t like 2K doing.Although you don’t have to use you Virtual Currency, or VC, on MyTeam to be used on MyGM and MyCareer, they have MyTeam Currency, or MT for short, but it is a lot harder to get and requires more to buy a pack.Although I feel NBA2K17 may have needed a bit more work done, especially in MyTeam, it is a great game thus far. It is an enjoyable experience to play by myself and with friends in those classic 2K tournaments, and there are so many more options to be done with this game. With the amount of hype it has received, NBA2K17 has lived up to it, offering so many more and better ideas and updating and fine touching innovations to the sports-gaming community.\n",
            "Predicted:  8.808687 Actual:  8 \n",
            "\n",
            " Don't hestitate buying this; it is indeed a fantastic game with a huge universe to explore. I think it is best described as a turnbased version of Pirates set in space, and without the tedious sailing against the wind. Combat seems a bit simplistic, and the RTS part of the game is downright awful (you can avoid it entirely, though). But neither of those are the reasons to play Space Don't hestitate buying this; it is indeed a fantastic game with a huge universe to explore. I think it is best described as a turnbased version of Pirates set in space, and without the tedious sailing against the wind. Combat seems a bit simplistic, and the RTS part of the game is downright awful (you can avoid it entirely, though). But neither of those are the reasons to play Space Rangers 2, anyway. The reason you should play it is because it's simply the best - and most easily accesible - freeroaming space game ever made.\n",
            "Predicted:  7.4321594 Actual:  9 \n",
            "\n",
            "\n",
            "Epoch: 8. Average prediction difference: 1.2074\n",
            "\n"
          ],
          "name": "stdout"
        }
      ]
    },
    {
      "metadata": {
        "id": "So4QLtFnkr9w",
        "colab_type": "code",
        "outputId": "1f13c5cf-32fc-4e11-9238-d6b7a80e520a",
        "colab": {
          "base_uri": "https://localhost:8080/",
          "height": 85
        }
      },
      "cell_type": "code",
      "source": [
        "# Let's try some user review of World War Z for Playstatin 4\n",
        "# https://www.metacritic.com/game/playstation-4/world-war-z/user-reviews\n",
        "test_comments = [\n",
        "    \"This game is fun. No microtransactions i can find. Buy it on sale unless you have friends then its a no brainer. It looks good and runs well on ultra 1060 60fps. Its not deep or big or original or creative but its solid which few zombie games are. They have kept it small and as a result its incompetent and capable. The single player works with decent ai which is a first for me. Your ai team will have your back though youll have to do the heavy lifting. There are no bosses which is a real missed opportunity. The progression system is very average but theres plenty to do. Sound and music is average. Gameplay is good. Lastability is what ever you make it but id like to see more free content within a month. The game can be scary and thrilling. The sequel could be great. If you love zombies its a no brainer (lol) and maybe a good fix while waiting on dayz gone.\",\n",
        "    \"It's one of the worst games I've played in my life, the AI is extremely stupid, the enemies are completely idiots, there is no challenge in the game, the targets are very bad, there is no sense in anything that is ago, many missions end in a very foolish way. The bots are useless, they do not know how to heal themselves, they do not defend or help. It is a copy of very poor quality of l4d2 in the third person, l4d2, a game of the year 2009 has better graphics, artificial intelligence, objectives, history and a great etc. compared to wwz, if the game was on Steam it would be a complete failure, OTWD was bad, but WWZ is not much better.\",\n",
        "    \"I would have given this game an 8-9, but because of the clear review bombing below I am upping the score to a 10. This game is super fun. It is mindless zombie action best played with friends. I agree with the guy below - there is now way this is worth less than a 7. The game is beyond insane in certain areas. It isn't Left4Dead because the action was nowhere near as intense in that game. Streamers are loving it and the one guy who gave a critic review was clearly doing it as clickbait. I would say a solid 8 is much more accurate. I will say it is much more fun online and Sony PSN was down yesterday so I haven't played as much as I would like.\",\n",
        "    \"The game has a fun progression system, but the constant buggyness holds it back. I have ran into a bug daily since release, and it has really killed my enjoyment for the game. If you are hoping to play with friends, it's a gamble whether or not you can invite them. Some people can, others can't. There are no check points, so if you bug out (which happens often) you have to restart with 0 progress gained. The past days since release there has been constant connection errors online. And when you do join, half of the people I have seen are either hackers or extremely toxic. (I was doing a higher difficulty with a low level, and someone just kept shooting me every time I respawned claiming we were going to lose anyways.) And even if you do play offline, despite what people say, the bots are garbage. But they're probably designed that way so they don't nick things important to you. They don't pick up any new items, and when you set up defenses you have to do it all by yourself. Not to mention any mission where you have to haul multiple of the objective back to a point you have to do that solo too. With all that negativity, what does this game offer over left 4 dead? The progression system lets you upgrade guns you use frequently, and you get experience for classes which have special abilities (some let you hit more than one target with a melee ability, others let you rez people from a distance, etc.) and get different special equipment, like grenades or stun guns. This alone is what got me into the game, but since I'm usually playing solo and my team comp is just AI with aimbots with no abilities I never get to see classes shine. Sound design and enemy, design compared to L4D is also lackluster. Bombs feel like they're smothered by wet paper towels, along with grenade launchers. You go to different locations but the Bull (charger) special infected always has POLICE on it. One enemy spawns more zombies but it usually is too far away to shoot, and happens during defenses which is where you're already shooting a large amount of zombies so you can't kill it and get easily overrun. If the devs ever get around to fixing the numerous bugs and getting online stable, it'll already be out on steam and they'll be doing the same **** over again. Wait for left 4 dead 3, if it even exists.\"\n",
        "]\n",
        "# The scores are \n",
        "# 7\n",
        "# 0\n",
        "# 10\n",
        "# 3\n",
        "\n",
        "combined_model.predict(process_comments(test_comments, tokenize, max_seq_length))"
      ],
      "execution_count": 16,
      "outputs": [
        {
          "output_type": "execute_result",
          "data": {
            "text/plain": [
              "array([[8.020194  ],\n",
              "       [0.85672355],\n",
              "       [8.71259   ],\n",
              "       [1.3553236 ]], dtype=float32)"
            ]
          },
          "metadata": {
            "tags": []
          },
          "execution_count": 16
        }
      ]
    },
    {
      "metadata": {
        "id": "RImzr8B56GQy",
        "colab_type": "code",
        "colab": {}
      },
      "cell_type": "code",
      "source": [
        ""
      ],
      "execution_count": 0,
      "outputs": []
    }
  ]
}